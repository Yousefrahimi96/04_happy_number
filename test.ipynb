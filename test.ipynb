{
 "cells": [
  {
   "cell_type": "code",
   "execution_count": 1,
   "metadata": {},
   "outputs": [
    {
     "data": {
      "text/plain": [
       "[6, 5, 1, 4, 6, 5, 1, 6]"
      ]
     },
     "execution_count": 1,
     "metadata": {},
     "output_type": "execute_result"
    }
   ],
   "source": [
    "number = input('please inter your number: ')\n",
    "digit_list = [int(digit) for digit in number]\n",
    "digit_list"
   ]
  },
  {
   "cell_type": "code",
   "execution_count": 1,
   "metadata": {},
   "outputs": [],
   "source": [
    "def happy_number():\n",
    "    number = input('please inter your number or q to quite: ')\n",
    "    step = 1\n",
    "    while step < 1000:\n",
    "        if number == 'q':\n",
    "            print('good bye')\n",
    "            break\n",
    "        \n",
    "        digit_list = [int(digit) for digit in number]\n",
    "        digit_sum = sum([i**2 for i in digit_list])\n",
    "        if digit_sum == 1:\n",
    "            print(f'{number} is happy number')\n",
    "            break\n",
    "        else:\n",
    "            step =+ 1\n",
    "            digit_list = str(digit_sum)\n",
    "            continue\n",
    "        \n",
    "        "
   ]
  },
  {
   "cell_type": "code",
   "execution_count": null,
   "metadata": {},
   "outputs": [],
   "source": []
  }
 ],
 "metadata": {
  "kernelspec": {
   "display_name": "yousef",
   "language": "python",
   "name": "python3"
  },
  "language_info": {
   "codemirror_mode": {
    "name": "ipython",
    "version": 3
   },
   "file_extension": ".py",
   "mimetype": "text/x-python",
   "name": "python",
   "nbconvert_exporter": "python",
   "pygments_lexer": "ipython3",
   "version": "3.13.2"
  }
 },
 "nbformat": 4,
 "nbformat_minor": 2
}
